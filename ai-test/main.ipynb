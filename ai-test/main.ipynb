{
 "cells": [
  {
   "cell_type": "markdown",
   "metadata": {},
   "source": [
    "https://colab.research.google.com/drive/1GF-DM1sDnmErwUquxEdl4OFfnUWcVu6G#scrollTo=QBCdRXdr2c0q"
   ]
  },
  {
   "cell_type": "code",
   "execution_count": 15,
   "metadata": {},
   "outputs": [],
   "source": [
    "import numpy as np\n",
    "import matplotlib.pyplot as plt\n",
    "from transformers import AutoTokenizer\n",
    "import pandas as pd\n",
    "import tensorflow as tf\n",
    "import tensorflow_hub as hub\n",
    "from sklearn.preprocessing import LabelEncoder\n",
    "from sklearn.model_selection import train_test_split\n",
    "from sklearn.feature_extraction.text import TfidfVectorizer"
   ]
  },
  {
   "cell_type": "code",
   "execution_count": 16,
   "metadata": {},
   "outputs": [],
   "source": [
    "# Load datasets\n",
    "non_hostile = pd.read_csv(\"./src/non_hostile.csv\")  # Contains 'Text', 'Label'\n",
    "hostile = pd.read_csv(\"./src/hostile.csv\")         # Contains 'Text', 'Label', 'SubLabel'\n",
    "\n",
    "# Add SubLabel column to non-hostile and fill with 'None'\n",
    "non_hostile['SubLabel'] = \"None\"\n",
    "\n",
    "# Combine both datasets\n",
    "data = pd.concat([non_hostile, hostile]).reset_index(drop=True)"
   ]
  },
  {
   "cell_type": "markdown",
   "metadata": {},
   "source": [
    "## Remove All the Inconsistant Data"
   ]
  },
  {
   "cell_type": "code",
   "execution_count": 48,
   "metadata": {},
   "outputs": [
    {
     "name": "stdout",
     "output_type": "stream",
     "text": [
      "Distinct Labels: [0 1]\n",
      "Distinct SubLabels: ['None' 'Hate' 'Offensive' 'Defamation' 'Fake']\n"
     ]
    }
   ],
   "source": [
    "# Drop rows where any column has NaN or empty values\n",
    "data = data.dropna()  # This removes rows where any value is NaN\n",
    "\n",
    "# Additionally, remove rows where any column has empty strings or only spaces\n",
    "data = data[~data.apply(lambda row: row.str.strip().eq('').any(), axis=1)]\n",
    "\n",
    "# Ensure 'Label' is an integer (convert float to int if needed)\n",
    "data['Label'] = data['Label'].astype(int)\n",
    "\n",
    "# Extract distinct values\n",
    "distinct_labels = data['Label'].unique()\n",
    "distinct_sublabels = data['SubLabel'].unique()\n",
    "\n",
    "# Print distinct values\n",
    "print(\"Distinct Labels:\", distinct_labels)\n",
    "print(\"Distinct SubLabels:\", distinct_sublabels)"
   ]
  },
  {
   "cell_type": "code",
   "execution_count": 49,
   "metadata": {},
   "outputs": [
    {
     "data": {
      "text/html": [
       "<div>\n",
       "<style scoped>\n",
       "    .dataframe tbody tr th:only-of-type {\n",
       "        vertical-align: middle;\n",
       "    }\n",
       "\n",
       "    .dataframe tbody tr th {\n",
       "        vertical-align: top;\n",
       "    }\n",
       "\n",
       "    .dataframe thead th {\n",
       "        text-align: right;\n",
       "    }\n",
       "</style>\n",
       "<table border=\"1\" class=\"dataframe\">\n",
       "  <thead>\n",
       "    <tr style=\"text-align: right;\">\n",
       "      <th></th>\n",
       "      <th>Text</th>\n",
       "      <th>Label</th>\n",
       "      <th>SubLabel</th>\n",
       "      <th>BinaryLabel</th>\n",
       "    </tr>\n",
       "  </thead>\n",
       "  <tbody>\n",
       "    <tr>\n",
       "      <th>14674</th>\n",
       "      <td>Bjp ના પોલીસ ના નખરા નઈ સહન કરવાના વિરોધ ની જર...</td>\n",
       "      <td>1</td>\n",
       "      <td>Offensive</td>\n",
       "      <td>1</td>\n",
       "    </tr>\n",
       "    <tr>\n",
       "      <th>14675</th>\n",
       "      <td>BJP ના લૂંટારા નેતા ઓ ની સાચેજ હવે ફાટવા લાગી ...</td>\n",
       "      <td>1</td>\n",
       "      <td>Defamation</td>\n",
       "      <td>1</td>\n",
       "    </tr>\n",
       "    <tr>\n",
       "      <th>14676</th>\n",
       "      <td>Bjp ના લોકો પાસે દંડ માંગવાની તેવડ નથી ગુલામી ...</td>\n",
       "      <td>1</td>\n",
       "      <td>Offensive</td>\n",
       "      <td>1</td>\n",
       "    </tr>\n",
       "    <tr>\n",
       "      <th>14677</th>\n",
       "      <td>Bjp ને વોટ ના આપો હજી ખરાબ હાલત કરશે આ બધા \\r\\n</td>\n",
       "      <td>1</td>\n",
       "      <td>Offensive</td>\n",
       "      <td>1</td>\n",
       "    </tr>\n",
       "    <tr>\n",
       "      <th>14678</th>\n",
       "      <td>BJP સરકાર માં પોલીસ ને પોતાની માં બહેનો ની પણ ...</td>\n",
       "      <td>1</td>\n",
       "      <td>Defamation</td>\n",
       "      <td>1</td>\n",
       "    </tr>\n",
       "  </tbody>\n",
       "</table>\n",
       "</div>"
      ],
      "text/plain": [
       "                                                    Text  Label    SubLabel  \\\n",
       "14674  Bjp ના પોલીસ ના નખરા નઈ સહન કરવાના વિરોધ ની જર...      1   Offensive   \n",
       "14675  BJP ના લૂંટારા નેતા ઓ ની સાચેજ હવે ફાટવા લાગી ...      1  Defamation   \n",
       "14676  Bjp ના લોકો પાસે દંડ માંગવાની તેવડ નથી ગુલામી ...      1   Offensive   \n",
       "14677    Bjp ને વોટ ના આપો હજી ખરાબ હાલત કરશે આ બધા \\r\\n      1   Offensive   \n",
       "14678  BJP સરકાર માં પોલીસ ને પોતાની માં બહેનો ની પણ ...      1  Defamation   \n",
       "\n",
       "       BinaryLabel  \n",
       "14674            1  \n",
       "14675            1  \n",
       "14676            1  \n",
       "14677            1  \n",
       "14678            1  "
      ]
     },
     "execution_count": 49,
     "metadata": {},
     "output_type": "execute_result"
    }
   ],
   "source": [
    "data['Label'] = data['Label'].replace({'Non-hostile': 0, 'Hostile': 1, 'hostile': 1})\n",
    "data[\"BinaryLabel\"] = (data[\"Label\"] == 1.0).astype(int)\n",
    "data.tail()"
   ]
  },
  {
   "cell_type": "code",
   "execution_count": 50,
   "metadata": {},
   "outputs": [],
   "source": [
    "# divide the data into training val and test\n",
    "\n",
    "train_texts, val_texts, train_binary_labels, val_binary_labels = train_test_split(\n",
    "    data[\"Text\"], data[\"BinaryLabel\"], test_size=0.2, random_state=42\n",
    ")"
   ]
  },
  {
   "cell_type": "code",
   "execution_count": 51,
   "metadata": {},
   "outputs": [],
   "source": [
    "# Filter out the hostile\n",
    "\n",
    "hostile_data = data[data[\"BinaryLabel\"] == 1]\n",
    "\n",
    "train_hostile_texts, val_hostile_texts, train_sub_labels, val_sub_labels = train_test_split(\n",
    "    hostile_data[\"Text\"], hostile_data[\"SubLabel\"], test_size=0.2, random_state=42\n",
    ")\n"
   ]
  },
  {
   "cell_type": "code",
   "execution_count": 52,
   "metadata": {},
   "outputs": [],
   "source": [
    "train_texts = [text for text in train_texts if isinstance(text, str)]\n",
    "val_texts = [text for text in val_texts if isinstance(text, str)]\n",
    "\n",
    "tfidf_binary = TfidfVectorizer(max_features=5000)\n",
    "X_binary_train = tfidf_binary.fit_transform(train_texts)\n",
    "X_binary_val = tfidf_binary.transform(val_texts)\n",
    "\n",
    "# Vectorizer for Subclassification\n",
    "tfidf_sub = TfidfVectorizer(max_features=5000)\n",
    "X_sub_train = tfidf_sub.fit_transform(train_hostile_texts)\n",
    "X_sub_val = tfidf_sub.transform(val_hostile_texts)"
   ]
  },
  {
   "cell_type": "code",
   "execution_count": 89,
   "metadata": {},
   "outputs": [
    {
     "data": {
      "text/plain": [
       "<Compressed Sparse Row sparse matrix of dtype 'float64'\n",
       "\twith 163689 stored elements and shape (11740, 5000)>"
      ]
     },
     "execution_count": 89,
     "metadata": {},
     "output_type": "execute_result"
    }
   ],
   "source": [
    "X_binary_train"
   ]
  },
  {
   "cell_type": "code",
   "execution_count": 69,
   "metadata": {},
   "outputs": [
    {
     "name": "stdout",
     "output_type": "stream",
     "text": [
      "11740 11740\n",
      "Binary Classification Accuracy: 0.8534923339011925\n",
      "              precision    recall  f1-score   support\n",
      "\n",
      "           0       0.86      0.85      0.85      1469\n",
      "           1       0.85      0.86      0.85      1466\n",
      "\n",
      "    accuracy                           0.85      2935\n",
      "   macro avg       0.85      0.85      0.85      2935\n",
      "weighted avg       0.85      0.85      0.85      2935\n",
      "\n"
     ]
    }
   ],
   "source": [
    "from sklearn.linear_model import LogisticRegression\n",
    "from sklearn.metrics import classification_report, accuracy_score\n",
    "\n",
    "print(X_binary_train.shape[0], len(train_binary_labels))\n",
    "\n",
    "# Align both the feature matrix and the labels\n",
    "# If there are NaNs or missing labels, remove those rows\n",
    "train_binary_labels = train_binary_labels[:X_binary_train.shape[0]]\n",
    "\n",
    "# Now train the model\n",
    "binary_model = LogisticRegression()\n",
    "binary_model.fit(X_binary_train, train_binary_labels)\n",
    "binary_preds = binary_model.predict(X_binary_val)\n",
    "\n",
    "if len(binary_preds) != len(val_binary_labels):\n",
    "    print(\"Mismatch in number of predictions and labels!\")\n",
    "    # Optional: Trim the longer array\n",
    "    min_len = min(len(binary_preds), len(val_binary_labels))\n",
    "    binary_preds = binary_preds[:min_len]\n",
    "    val_binary_labels = val_binary_labels[:min_len]\n",
    "    \n",
    "    \n",
    "# Evaluate the model performance\n",
    "print(\"Binary Classification Accuracy:\", accuracy_score(val_binary_labels, binary_preds))\n",
    "print(classification_report(val_binary_labels, binary_preds))\n"
   ]
  },
  {
   "cell_type": "code",
   "execution_count": 70,
   "metadata": {},
   "outputs": [
    {
     "name": "stdout",
     "output_type": "stream",
     "text": [
      "Cross-Validation Scores: [0.85136286 0.85391823 0.85689949 0.85306644 0.85051107]\n",
      "Mean CV Score: 0.8531516183986371\n"
     ]
    }
   ],
   "source": [
    "from sklearn.model_selection import cross_val_score\n",
    "cv_scores = cross_val_score(binary_model, X_binary_train, train_binary_labels, cv=5)\n",
    "print(\"Cross-Validation Scores:\", cv_scores)\n",
    "print(\"Mean CV Score:\", cv_scores.mean())\n"
   ]
  },
  {
   "cell_type": "code",
   "execution_count": 71,
   "metadata": {},
   "outputs": [
    {
     "name": "stdout",
     "output_type": "stream",
     "text": [
      "AUC: 0.853495663447492\n"
     ]
    }
   ],
   "source": [
    "from sklearn.metrics import roc_curve, roc_auc_score\n",
    "fpr, tpr, thresholds = roc_curve(val_binary_labels, binary_preds)\n",
    "auc = roc_auc_score(val_binary_labels, binary_preds)\n",
    "print(\"AUC:\", auc)\n"
   ]
  },
  {
   "cell_type": "code",
   "execution_count": 106,
   "metadata": {},
   "outputs": [
    {
     "data": {
      "text/plain": [
       "'../backend/api/extensions/ml/binary_classification_model.pkl'"
      ]
     },
     "execution_count": 106,
     "metadata": {},
     "output_type": "execute_result"
    }
   ],
   "source": [
    "import joblib\n",
    "import shutil\n",
    "\n",
    "# Save the fitted vectorizer\n",
    "joblib.dump(tfidf_binary, 'tfidf_binary_vectorizer.pkl')\n",
    "\n",
    "# Save the trained model\n",
    "joblib.dump(binary_model, 'binary_classification_model.pkl')\n",
    "\n",
    "# Copy the saved vectorizer and model to the specified directory\n",
    "shutil.copy('tfidf_binary_vectorizer.pkl', '../backend/api/extensions/ml/tfidf_binary_vectorizer.pkl')\n",
    "shutil.copy('binary_classification_model.pkl', '../backend/api/extensions/ml/binary_classification_model.pkl')"
   ]
  },
  {
   "cell_type": "code",
   "execution_count": 101,
   "metadata": {},
   "outputs": [
    {
     "data": {
      "image/png": "[encoded data removed]",
      "text/plain": [
       "<Figure size 640x480 with 2 Axes>"
      ]
     },
     "metadata": {},
     "output_type": "display_data"
    }
   ],
   "source": [
    "from sklearn.metrics import confusion_matrix\n",
    "import seaborn as sns\n",
    "import matplotlib.pyplot as plt\n",
    "\n",
    "cm = confusion_matrix(val_binary_labels, binary_preds)\n",
    "sns.heatmap(cm, annot=True, fmt='d', cmap='Blues')\n",
    "plt.xlabel('Predicted')\n",
    "plt.ylabel('Actual')\n",
    "plt.title('Confusion Matrix')\n",
    "plt.show()"
   ]
  },
  {
   "cell_type": "markdown",
   "metadata": {},
   "source": [
    "Test the Model on Prediction Now"
   ]
  },
  {
   "cell_type": "code",
   "execution_count": 104,
   "metadata": {},
   "outputs": [
    {
     "name": "stdout",
     "output_type": "stream",
     "text": [
      "Predicted Label for the tweet: [0]\n"
     ]
    }
   ],
   "source": [
    "# Ensure the tfidf_binary vectorizer is fitted\n",
    "tfidf_binary = TfidfVectorizer(max_features=5000)\n",
    "tfidf_binary.fit(train_texts)  # Fit the vectorizer on the training text data\n",
    "\n",
    "def predict_tweet(text):\n",
    "    # Preprocess the text (e.g., convert to lowercase)\n",
    "    text = text.strip().lower()\n",
    "\n",
    "    # Vectorize the tweet using the fitted vectorizer\n",
    "    text_vectorized = tfidf_binary.transform([text])  # Use the fitted tfidf_binary\n",
    "\n",
    "    # Predict using the trained model\n",
    "    prediction = binary_model.predict(text_vectorized)\n",
    "\n",
    "    # Return the prediction\n",
    "    return prediction\n",
    "\n",
    "# Example usage:\n",
    "tweet = \"\"\"આ લોકો છે, આ દુનિયામાં રહેવા લાયક. તેમને બસ જવા દો.\n",
    "\"\"\"\n",
    "prediction = predict_tweet(tweet)\n",
    "print(\"Predicted Label for the tweet:\", prediction)"
   ]
  }
 ],
 "metadata": {
  "kernelspec": {
   "display_name": "ai_env",
   "language": "python",
   "name": "python3"
  },
  "language_info": {
   "codemirror_mode": {
    "name": "ipython",
    "version": 3
   },
   "file_extension": ".py",
   "mimetype": "text/x-python",
   "name": "python",
   "nbconvert_exporter": "python",
   "pygments_lexer": "ipython3",
   "version": "3.10.10"
  }
 },
 "nbformat": 4,
 "nbformat_minor": 2
}
